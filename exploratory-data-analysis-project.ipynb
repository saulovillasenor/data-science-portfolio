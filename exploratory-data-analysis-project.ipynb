{
 "cells": [
  {
   "cell_type": "markdown",
   "id": "51c67d68",
   "metadata": {},
   "source": [
    "# Exploratory Data Analysis on US Accidents Dataset\n",
    "\n",
    "In this notebook I will talk about Exploratory Data Analysis in general and about this US accidents dataset in particular. I will get some information about the dataset to analyse it and build some representations and by the end some conclusions will be drawn from it.\n",
    "\n",
    "The dataset is provided by Moosavi et. al. (2019) and was downloaded from the following Kaggle's link: https://www.kaggle.com/sobhanmoosavi/us-accidents"
   ]
  },
  {
   "cell_type": "code",
   "execution_count": 2,
   "id": "bde22b13",
   "metadata": {},
   "outputs": [],
   "source": [
    "#Importing the libraries\n",
    "import opendatasets as od    #To get datasets from Kaggle's API.\n",
    "import pandas as pd          #To create dataframes and analyse them.\n",
    "import seaborn as sns        #To plot the data."
   ]
  },
  {
   "cell_type": "code",
   "execution_count": 6,
   "id": "c4f147d0",
   "metadata": {},
   "outputs": [
    {
     "name": "stdout",
     "output_type": "stream",
     "text": [
      "Please provide your Kaggle credentials to download this dataset. Learn more: http://bit.ly/kaggle-creds\n",
      "Your Kaggle username: saulovillasenor\n",
      "Your Kaggle Key: ········\n"
     ]
    },
    {
     "name": "stderr",
     "output_type": "stream",
     "text": [
      "  0%|                                                                                       | 0.00/290M [00:00<?, ?B/s]"
     ]
    },
    {
     "name": "stdout",
     "output_type": "stream",
     "text": [
      "Downloading us-accidents.zip to .\\us-accidents\n"
     ]
    },
    {
     "name": "stderr",
     "output_type": "stream",
     "text": [
      "100%|███████████████████████████████████████████████████████████████████████████████| 290M/290M [04:58<00:00, 1.02MB/s]\n"
     ]
    },
    {
     "name": "stdout",
     "output_type": "stream",
     "text": [
      "\n"
     ]
    }
   ],
   "source": [
    "#Downloading the dataset using opendatasets.\n",
    "#This will ask for a kaggle username and an API key, which are available at our kaggle account.\n",
    "download_url = 'https://www.kaggle.com/sobhanmoosavi/us-accidents'\n",
    "od.download(download_url)"
   ]
  },
  {
   "cell_type": "markdown",
   "id": "9c347398",
   "metadata": {},
   "source": [
    "## Data Preparation and Cleaning\n",
    "1. Load the file using Pandas\n",
    "2. Look at some information about the data & the columns\n",
    "3. Fix any missing or incorrect values"
   ]
  },
  {
   "cell_type": "code",
   "execution_count": 3,
   "id": "2e8b3de3",
   "metadata": {},
   "outputs": [],
   "source": [
    "#Loading the file using pandas and converting it into a DataFrame.\n",
    "filename = './us-accidents/US_Accidents_Dec20_Updated.csv'\n",
    "df = pd.read_csv(filename)"
   ]
  },
  {
   "cell_type": "code",
   "execution_count": 4,
   "id": "616e68e3",
   "metadata": {},
   "outputs": [
    {
     "data": {
      "text/html": [
       "<div>\n",
       "<style scoped>\n",
       "    .dataframe tbody tr th:only-of-type {\n",
       "        vertical-align: middle;\n",
       "    }\n",
       "\n",
       "    .dataframe tbody tr th {\n",
       "        vertical-align: top;\n",
       "    }\n",
       "\n",
       "    .dataframe thead th {\n",
       "        text-align: right;\n",
       "    }\n",
       "</style>\n",
       "<table border=\"1\" class=\"dataframe\">\n",
       "  <thead>\n",
       "    <tr style=\"text-align: right;\">\n",
       "      <th></th>\n",
       "      <th>ID</th>\n",
       "      <th>Severity</th>\n",
       "      <th>Start_Time</th>\n",
       "      <th>End_Time</th>\n",
       "      <th>Start_Lat</th>\n",
       "      <th>Start_Lng</th>\n",
       "      <th>End_Lat</th>\n",
       "      <th>End_Lng</th>\n",
       "      <th>Distance(mi)</th>\n",
       "      <th>Description</th>\n",
       "      <th>...</th>\n",
       "      <th>Roundabout</th>\n",
       "      <th>Station</th>\n",
       "      <th>Stop</th>\n",
       "      <th>Traffic_Calming</th>\n",
       "      <th>Traffic_Signal</th>\n",
       "      <th>Turning_Loop</th>\n",
       "      <th>Sunrise_Sunset</th>\n",
       "      <th>Civil_Twilight</th>\n",
       "      <th>Nautical_Twilight</th>\n",
       "      <th>Astronomical_Twilight</th>\n",
       "    </tr>\n",
       "  </thead>\n",
       "  <tbody>\n",
       "    <tr>\n",
       "      <th>0</th>\n",
       "      <td>A-1</td>\n",
       "      <td>2</td>\n",
       "      <td>2019-05-21 08:29:55</td>\n",
       "      <td>2019-05-21 09:29:40</td>\n",
       "      <td>34.808868</td>\n",
       "      <td>-82.269157</td>\n",
       "      <td>34.808868</td>\n",
       "      <td>-82.269157</td>\n",
       "      <td>0.000</td>\n",
       "      <td>Accident on Tanner Rd at Pennbrooke Ln.</td>\n",
       "      <td>...</td>\n",
       "      <td>False</td>\n",
       "      <td>False</td>\n",
       "      <td>False</td>\n",
       "      <td>False</td>\n",
       "      <td>False</td>\n",
       "      <td>False</td>\n",
       "      <td>Day</td>\n",
       "      <td>Day</td>\n",
       "      <td>Day</td>\n",
       "      <td>Day</td>\n",
       "    </tr>\n",
       "    <tr>\n",
       "      <th>1</th>\n",
       "      <td>A-2</td>\n",
       "      <td>2</td>\n",
       "      <td>2019-10-07 17:43:09</td>\n",
       "      <td>2019-10-07 19:42:50</td>\n",
       "      <td>35.090080</td>\n",
       "      <td>-80.745560</td>\n",
       "      <td>35.090080</td>\n",
       "      <td>-80.745560</td>\n",
       "      <td>0.000</td>\n",
       "      <td>Accident on Houston Branch Rd at Providence Br...</td>\n",
       "      <td>...</td>\n",
       "      <td>False</td>\n",
       "      <td>False</td>\n",
       "      <td>False</td>\n",
       "      <td>False</td>\n",
       "      <td>False</td>\n",
       "      <td>False</td>\n",
       "      <td>Day</td>\n",
       "      <td>Day</td>\n",
       "      <td>Day</td>\n",
       "      <td>Day</td>\n",
       "    </tr>\n",
       "    <tr>\n",
       "      <th>2</th>\n",
       "      <td>A-3</td>\n",
       "      <td>2</td>\n",
       "      <td>2020-12-13 21:53:00</td>\n",
       "      <td>2020-12-13 22:44:00</td>\n",
       "      <td>37.145730</td>\n",
       "      <td>-121.985052</td>\n",
       "      <td>37.165850</td>\n",
       "      <td>-121.988062</td>\n",
       "      <td>1.400</td>\n",
       "      <td>Stationary traffic on CA-17 from Summit Rd (CA...</td>\n",
       "      <td>...</td>\n",
       "      <td>False</td>\n",
       "      <td>False</td>\n",
       "      <td>False</td>\n",
       "      <td>False</td>\n",
       "      <td>False</td>\n",
       "      <td>False</td>\n",
       "      <td>Night</td>\n",
       "      <td>Night</td>\n",
       "      <td>Night</td>\n",
       "      <td>Night</td>\n",
       "    </tr>\n",
       "    <tr>\n",
       "      <th>3</th>\n",
       "      <td>A-4</td>\n",
       "      <td>2</td>\n",
       "      <td>2018-04-17 16:51:23</td>\n",
       "      <td>2018-04-17 17:50:46</td>\n",
       "      <td>39.110390</td>\n",
       "      <td>-119.773781</td>\n",
       "      <td>39.110390</td>\n",
       "      <td>-119.773781</td>\n",
       "      <td>0.000</td>\n",
       "      <td>Accident on US-395 Southbound at Topsy Ln.</td>\n",
       "      <td>...</td>\n",
       "      <td>False</td>\n",
       "      <td>False</td>\n",
       "      <td>False</td>\n",
       "      <td>False</td>\n",
       "      <td>True</td>\n",
       "      <td>False</td>\n",
       "      <td>Day</td>\n",
       "      <td>Day</td>\n",
       "      <td>Day</td>\n",
       "      <td>Day</td>\n",
       "    </tr>\n",
       "    <tr>\n",
       "      <th>4</th>\n",
       "      <td>A-5</td>\n",
       "      <td>3</td>\n",
       "      <td>2016-08-31 17:40:49</td>\n",
       "      <td>2016-08-31 18:10:49</td>\n",
       "      <td>26.102942</td>\n",
       "      <td>-80.265091</td>\n",
       "      <td>26.102942</td>\n",
       "      <td>-80.265091</td>\n",
       "      <td>0.000</td>\n",
       "      <td>Accident on I-595 Westbound at Exit 4 / Pine I...</td>\n",
       "      <td>...</td>\n",
       "      <td>False</td>\n",
       "      <td>False</td>\n",
       "      <td>False</td>\n",
       "      <td>False</td>\n",
       "      <td>True</td>\n",
       "      <td>False</td>\n",
       "      <td>Day</td>\n",
       "      <td>Day</td>\n",
       "      <td>Day</td>\n",
       "      <td>Day</td>\n",
       "    </tr>\n",
       "    <tr>\n",
       "      <th>...</th>\n",
       "      <td>...</td>\n",
       "      <td>...</td>\n",
       "      <td>...</td>\n",
       "      <td>...</td>\n",
       "      <td>...</td>\n",
       "      <td>...</td>\n",
       "      <td>...</td>\n",
       "      <td>...</td>\n",
       "      <td>...</td>\n",
       "      <td>...</td>\n",
       "      <td>...</td>\n",
       "      <td>...</td>\n",
       "      <td>...</td>\n",
       "      <td>...</td>\n",
       "      <td>...</td>\n",
       "      <td>...</td>\n",
       "      <td>...</td>\n",
       "      <td>...</td>\n",
       "      <td>...</td>\n",
       "      <td>...</td>\n",
       "      <td>...</td>\n",
       "    </tr>\n",
       "    <tr>\n",
       "      <th>2906605</th>\n",
       "      <td>A-2906606</td>\n",
       "      <td>2</td>\n",
       "      <td>2018-06-28 08:49:01</td>\n",
       "      <td>2018-06-28 09:18:51</td>\n",
       "      <td>29.813824</td>\n",
       "      <td>-95.399437</td>\n",
       "      <td>29.813824</td>\n",
       "      <td>-95.399437</td>\n",
       "      <td>0.000</td>\n",
       "      <td>Accident on 30th St at Yale St.</td>\n",
       "      <td>...</td>\n",
       "      <td>False</td>\n",
       "      <td>False</td>\n",
       "      <td>True</td>\n",
       "      <td>False</td>\n",
       "      <td>False</td>\n",
       "      <td>False</td>\n",
       "      <td>Day</td>\n",
       "      <td>Day</td>\n",
       "      <td>Day</td>\n",
       "      <td>Day</td>\n",
       "    </tr>\n",
       "    <tr>\n",
       "      <th>2906606</th>\n",
       "      <td>A-2906607</td>\n",
       "      <td>2</td>\n",
       "      <td>2019-01-10 02:01:01</td>\n",
       "      <td>2019-01-10 02:30:32</td>\n",
       "      <td>34.068890</td>\n",
       "      <td>-117.342010</td>\n",
       "      <td>34.068890</td>\n",
       "      <td>-117.342010</td>\n",
       "      <td>0.000</td>\n",
       "      <td>At Valley Blvd - Accident.</td>\n",
       "      <td>...</td>\n",
       "      <td>False</td>\n",
       "      <td>False</td>\n",
       "      <td>False</td>\n",
       "      <td>False</td>\n",
       "      <td>False</td>\n",
       "      <td>False</td>\n",
       "      <td>Night</td>\n",
       "      <td>Night</td>\n",
       "      <td>Night</td>\n",
       "      <td>Night</td>\n",
       "    </tr>\n",
       "    <tr>\n",
       "      <th>2906607</th>\n",
       "      <td>A-2906608</td>\n",
       "      <td>2</td>\n",
       "      <td>2020-11-23 12:52:00</td>\n",
       "      <td>2020-11-24 00:47:37</td>\n",
       "      <td>25.702200</td>\n",
       "      <td>-80.335556</td>\n",
       "      <td>25.703040</td>\n",
       "      <td>-80.334099</td>\n",
       "      <td>0.108</td>\n",
       "      <td>Stationary traffic on County Hwy-913 - FL-986 ...</td>\n",
       "      <td>...</td>\n",
       "      <td>False</td>\n",
       "      <td>False</td>\n",
       "      <td>False</td>\n",
       "      <td>False</td>\n",
       "      <td>False</td>\n",
       "      <td>False</td>\n",
       "      <td>Day</td>\n",
       "      <td>Day</td>\n",
       "      <td>Day</td>\n",
       "      <td>Day</td>\n",
       "    </tr>\n",
       "    <tr>\n",
       "      <th>2906608</th>\n",
       "      <td>A-2906609</td>\n",
       "      <td>2</td>\n",
       "      <td>2019-12-29 22:38:00</td>\n",
       "      <td>2019-12-29 23:38:00</td>\n",
       "      <td>40.660140</td>\n",
       "      <td>-111.952460</td>\n",
       "      <td>40.660140</td>\n",
       "      <td>-111.952460</td>\n",
       "      <td>0.000</td>\n",
       "      <td>At UT-266/4700/Exit 15 - Accident.</td>\n",
       "      <td>...</td>\n",
       "      <td>False</td>\n",
       "      <td>False</td>\n",
       "      <td>False</td>\n",
       "      <td>False</td>\n",
       "      <td>False</td>\n",
       "      <td>False</td>\n",
       "      <td>Night</td>\n",
       "      <td>Night</td>\n",
       "      <td>Night</td>\n",
       "      <td>Night</td>\n",
       "    </tr>\n",
       "    <tr>\n",
       "      <th>2906609</th>\n",
       "      <td>A-2906610</td>\n",
       "      <td>2</td>\n",
       "      <td>2018-03-26 13:35:03</td>\n",
       "      <td>2018-03-26 14:39:00</td>\n",
       "      <td>38.831749</td>\n",
       "      <td>-104.748161</td>\n",
       "      <td>38.831749</td>\n",
       "      <td>-104.748161</td>\n",
       "      <td>0.000</td>\n",
       "      <td>Accident on Murray Blvd at Byron Dr.</td>\n",
       "      <td>...</td>\n",
       "      <td>False</td>\n",
       "      <td>False</td>\n",
       "      <td>False</td>\n",
       "      <td>False</td>\n",
       "      <td>True</td>\n",
       "      <td>False</td>\n",
       "      <td>Day</td>\n",
       "      <td>Day</td>\n",
       "      <td>Day</td>\n",
       "      <td>Day</td>\n",
       "    </tr>\n",
       "  </tbody>\n",
       "</table>\n",
       "<p>2906610 rows × 47 columns</p>\n",
       "</div>"
      ],
      "text/plain": [
       "                ID  Severity           Start_Time             End_Time  \\\n",
       "0              A-1         2  2019-05-21 08:29:55  2019-05-21 09:29:40   \n",
       "1              A-2         2  2019-10-07 17:43:09  2019-10-07 19:42:50   \n",
       "2              A-3         2  2020-12-13 21:53:00  2020-12-13 22:44:00   \n",
       "3              A-4         2  2018-04-17 16:51:23  2018-04-17 17:50:46   \n",
       "4              A-5         3  2016-08-31 17:40:49  2016-08-31 18:10:49   \n",
       "...            ...       ...                  ...                  ...   \n",
       "2906605  A-2906606         2  2018-06-28 08:49:01  2018-06-28 09:18:51   \n",
       "2906606  A-2906607         2  2019-01-10 02:01:01  2019-01-10 02:30:32   \n",
       "2906607  A-2906608         2  2020-11-23 12:52:00  2020-11-24 00:47:37   \n",
       "2906608  A-2906609         2  2019-12-29 22:38:00  2019-12-29 23:38:00   \n",
       "2906609  A-2906610         2  2018-03-26 13:35:03  2018-03-26 14:39:00   \n",
       "\n",
       "         Start_Lat   Start_Lng    End_Lat     End_Lng  Distance(mi)  \\\n",
       "0        34.808868  -82.269157  34.808868  -82.269157         0.000   \n",
       "1        35.090080  -80.745560  35.090080  -80.745560         0.000   \n",
       "2        37.145730 -121.985052  37.165850 -121.988062         1.400   \n",
       "3        39.110390 -119.773781  39.110390 -119.773781         0.000   \n",
       "4        26.102942  -80.265091  26.102942  -80.265091         0.000   \n",
       "...            ...         ...        ...         ...           ...   \n",
       "2906605  29.813824  -95.399437  29.813824  -95.399437         0.000   \n",
       "2906606  34.068890 -117.342010  34.068890 -117.342010         0.000   \n",
       "2906607  25.702200  -80.335556  25.703040  -80.334099         0.108   \n",
       "2906608  40.660140 -111.952460  40.660140 -111.952460         0.000   \n",
       "2906609  38.831749 -104.748161  38.831749 -104.748161         0.000   \n",
       "\n",
       "                                               Description  ...  Roundabout  \\\n",
       "0                  Accident on Tanner Rd at Pennbrooke Ln.  ...       False   \n",
       "1        Accident on Houston Branch Rd at Providence Br...  ...       False   \n",
       "2        Stationary traffic on CA-17 from Summit Rd (CA...  ...       False   \n",
       "3               Accident on US-395 Southbound at Topsy Ln.  ...       False   \n",
       "4        Accident on I-595 Westbound at Exit 4 / Pine I...  ...       False   \n",
       "...                                                    ...  ...         ...   \n",
       "2906605                    Accident on 30th St at Yale St.  ...       False   \n",
       "2906606                         At Valley Blvd - Accident.  ...       False   \n",
       "2906607  Stationary traffic on County Hwy-913 - FL-986 ...  ...       False   \n",
       "2906608                 At UT-266/4700/Exit 15 - Accident.  ...       False   \n",
       "2906609               Accident on Murray Blvd at Byron Dr.  ...       False   \n",
       "\n",
       "        Station   Stop Traffic_Calming Traffic_Signal Turning_Loop  \\\n",
       "0         False  False           False          False        False   \n",
       "1         False  False           False          False        False   \n",
       "2         False  False           False          False        False   \n",
       "3         False  False           False           True        False   \n",
       "4         False  False           False           True        False   \n",
       "...         ...    ...             ...            ...          ...   \n",
       "2906605   False   True           False          False        False   \n",
       "2906606   False  False           False          False        False   \n",
       "2906607   False  False           False          False        False   \n",
       "2906608   False  False           False          False        False   \n",
       "2906609   False  False           False           True        False   \n",
       "\n",
       "        Sunrise_Sunset Civil_Twilight Nautical_Twilight Astronomical_Twilight  \n",
       "0                  Day            Day               Day                   Day  \n",
       "1                  Day            Day               Day                   Day  \n",
       "2                Night          Night             Night                 Night  \n",
       "3                  Day            Day               Day                   Day  \n",
       "4                  Day            Day               Day                   Day  \n",
       "...                ...            ...               ...                   ...  \n",
       "2906605            Day            Day               Day                   Day  \n",
       "2906606          Night          Night             Night                 Night  \n",
       "2906607            Day            Day               Day                   Day  \n",
       "2906608          Night          Night             Night                 Night  \n",
       "2906609            Day            Day               Day                   Day  \n",
       "\n",
       "[2906610 rows x 47 columns]"
      ]
     },
     "execution_count": 4,
     "metadata": {},
     "output_type": "execute_result"
    }
   ],
   "source": [
    "df"
   ]
  },
  {
   "cell_type": "code",
   "execution_count": 5,
   "id": "9899c4f9",
   "metadata": {
    "scrolled": false
   },
   "outputs": [
    {
     "name": "stdout",
     "output_type": "stream",
     "text": [
      "<class 'pandas.core.frame.DataFrame'>\n",
      "RangeIndex: 2906610 entries, 0 to 2906609\n",
      "Data columns (total 47 columns):\n",
      " #   Column                 Dtype  \n",
      "---  ------                 -----  \n",
      " 0   ID                     object \n",
      " 1   Severity               int64  \n",
      " 2   Start_Time             object \n",
      " 3   End_Time               object \n",
      " 4   Start_Lat              float64\n",
      " 5   Start_Lng              float64\n",
      " 6   End_Lat                float64\n",
      " 7   End_Lng                float64\n",
      " 8   Distance(mi)           float64\n",
      " 9   Description            object \n",
      " 10  Number                 float64\n",
      " 11  Street                 object \n",
      " 12  Side                   object \n",
      " 13  City                   object \n",
      " 14  County                 object \n",
      " 15  State                  object \n",
      " 16  Zipcode                object \n",
      " 17  Country                object \n",
      " 18  Timezone               object \n",
      " 19  Airport_Code           object \n",
      " 20  Weather_Timestamp      object \n",
      " 21  Temperature(F)         float64\n",
      " 22  Wind_Chill(F)          float64\n",
      " 23  Humidity(%)            float64\n",
      " 24  Pressure(in)           float64\n",
      " 25  Visibility(mi)         float64\n",
      " 26  Wind_Direction         object \n",
      " 27  Wind_Speed(mph)        float64\n",
      " 28  Precipitation(in)      float64\n",
      " 29  Weather_Condition      object \n",
      " 30  Amenity                bool   \n",
      " 31  Bump                   bool   \n",
      " 32  Crossing               bool   \n",
      " 33  Give_Way               bool   \n",
      " 34  Junction               bool   \n",
      " 35  No_Exit                bool   \n",
      " 36  Railway                bool   \n",
      " 37  Roundabout             bool   \n",
      " 38  Station                bool   \n",
      " 39  Stop                   bool   \n",
      " 40  Traffic_Calming        bool   \n",
      " 41  Traffic_Signal         bool   \n",
      " 42  Turning_Loop           bool   \n",
      " 43  Sunrise_Sunset         object \n",
      " 44  Civil_Twilight         object \n",
      " 45  Nautical_Twilight      object \n",
      " 46  Astronomical_Twilight  object \n",
      "dtypes: bool(13), float64(13), int64(1), object(20)\n",
      "memory usage: 790.0+ MB\n"
     ]
    }
   ],
   "source": [
    "#Checking the information we have in the dataset.\n",
    "df.info()"
   ]
  },
  {
   "cell_type": "markdown",
   "id": "65869c4f",
   "metadata": {},
   "source": [
    "We can see that we have 47 columns and 2906609 rows or entries."
   ]
  },
  {
   "cell_type": "code",
   "execution_count": 11,
   "id": "d414c885",
   "metadata": {
    "scrolled": true
   },
   "outputs": [
    {
     "data": {
      "text/html": [
       "<div>\n",
       "<style scoped>\n",
       "    .dataframe tbody tr th:only-of-type {\n",
       "        vertical-align: middle;\n",
       "    }\n",
       "\n",
       "    .dataframe tbody tr th {\n",
       "        vertical-align: top;\n",
       "    }\n",
       "\n",
       "    .dataframe thead th {\n",
       "        text-align: right;\n",
       "    }\n",
       "</style>\n",
       "<table border=\"1\" class=\"dataframe\">\n",
       "  <thead>\n",
       "    <tr style=\"text-align: right;\">\n",
       "      <th></th>\n",
       "      <th>Severity</th>\n",
       "      <th>Start_Lat</th>\n",
       "      <th>Start_Lng</th>\n",
       "      <th>End_Lat</th>\n",
       "      <th>End_Lng</th>\n",
       "      <th>Distance(mi)</th>\n",
       "      <th>Number</th>\n",
       "      <th>Temperature(F)</th>\n",
       "      <th>Wind_Chill(F)</th>\n",
       "      <th>Humidity(%)</th>\n",
       "      <th>Pressure(in)</th>\n",
       "      <th>Visibility(mi)</th>\n",
       "      <th>Wind_Speed(mph)</th>\n",
       "      <th>Precipitation(in)</th>\n",
       "    </tr>\n",
       "  </thead>\n",
       "  <tbody>\n",
       "    <tr>\n",
       "      <th>count</th>\n",
       "      <td>2.906610e+06</td>\n",
       "      <td>2.906610e+06</td>\n",
       "      <td>2.906610e+06</td>\n",
       "      <td>2.623789e+06</td>\n",
       "      <td>2.623789e+06</td>\n",
       "      <td>2.906610e+06</td>\n",
       "      <td>1.014938e+06</td>\n",
       "      <td>2.839386e+06</td>\n",
       "      <td>1.722751e+06</td>\n",
       "      <td>2.835340e+06</td>\n",
       "      <td>2.849702e+06</td>\n",
       "      <td>2.834532e+06</td>\n",
       "      <td>2.599447e+06</td>\n",
       "      <td>1.605284e+06</td>\n",
       "    </tr>\n",
       "    <tr>\n",
       "      <th>mean</th>\n",
       "      <td>2.288649e+00</td>\n",
       "      <td>3.653027e+01</td>\n",
       "      <td>-9.642676e+01</td>\n",
       "      <td>3.651733e+01</td>\n",
       "      <td>-9.620367e+01</td>\n",
       "      <td>3.980541e-01</td>\n",
       "      <td>6.789728e+03</td>\n",
       "      <td>6.098873e+01</td>\n",
       "      <td>5.499048e+01</td>\n",
       "      <td>6.537758e+01</td>\n",
       "      <td>2.965685e+01</td>\n",
       "      <td>9.116766e+00</td>\n",
       "      <td>7.818111e+00</td>\n",
       "      <td>1.119459e-02</td>\n",
       "    </tr>\n",
       "    <tr>\n",
       "      <th>std</th>\n",
       "      <td>5.541618e-01</td>\n",
       "      <td>5.013964e+00</td>\n",
       "      <td>1.775412e+01</td>\n",
       "      <td>5.016609e+00</td>\n",
       "      <td>1.765971e+01</td>\n",
       "      <td>1.592556e+00</td>\n",
       "      <td>1.697225e+04</td>\n",
       "      <td>1.845258e+01</td>\n",
       "      <td>2.219542e+01</td>\n",
       "      <td>2.287854e+01</td>\n",
       "      <td>9.094133e-01</td>\n",
       "      <td>2.837271e+00</td>\n",
       "      <td>5.431171e+00</td>\n",
       "      <td>1.540812e-01</td>\n",
       "    </tr>\n",
       "    <tr>\n",
       "      <th>min</th>\n",
       "      <td>1.000000e+00</td>\n",
       "      <td>2.455527e+01</td>\n",
       "      <td>-1.246238e+02</td>\n",
       "      <td>2.455527e+01</td>\n",
       "      <td>-1.246238e+02</td>\n",
       "      <td>0.000000e+00</td>\n",
       "      <td>0.000000e+00</td>\n",
       "      <td>-8.900000e+01</td>\n",
       "      <td>-8.900000e+01</td>\n",
       "      <td>1.000000e+00</td>\n",
       "      <td>0.000000e+00</td>\n",
       "      <td>0.000000e+00</td>\n",
       "      <td>0.000000e+00</td>\n",
       "      <td>0.000000e+00</td>\n",
       "    </tr>\n",
       "    <tr>\n",
       "      <th>25%</th>\n",
       "      <td>2.000000e+00</td>\n",
       "      <td>3.366453e+01</td>\n",
       "      <td>-1.178232e+02</td>\n",
       "      <td>3.364659e+01</td>\n",
       "      <td>-1.177020e+02</td>\n",
       "      <td>0.000000e+00</td>\n",
       "      <td>9.650000e+02</td>\n",
       "      <td>4.890000e+01</td>\n",
       "      <td>3.900000e+01</td>\n",
       "      <td>4.900000e+01</td>\n",
       "      <td>2.959000e+01</td>\n",
       "      <td>1.000000e+01</td>\n",
       "      <td>4.600000e+00</td>\n",
       "      <td>0.000000e+00</td>\n",
       "    </tr>\n",
       "    <tr>\n",
       "      <th>50%</th>\n",
       "      <td>2.000000e+00</td>\n",
       "      <td>3.609977e+01</td>\n",
       "      <td>-9.116690e+01</td>\n",
       "      <td>3.605898e+01</td>\n",
       "      <td>-9.105163e+01</td>\n",
       "      <td>0.000000e+00</td>\n",
       "      <td>3.093000e+03</td>\n",
       "      <td>6.300000e+01</td>\n",
       "      <td>5.800000e+01</td>\n",
       "      <td>6.800000e+01</td>\n",
       "      <td>2.992000e+01</td>\n",
       "      <td>1.000000e+01</td>\n",
       "      <td>7.000000e+00</td>\n",
       "      <td>0.000000e+00</td>\n",
       "    </tr>\n",
       "    <tr>\n",
       "      <th>75%</th>\n",
       "      <td>3.000000e+00</td>\n",
       "      <td>4.037505e+01</td>\n",
       "      <td>-8.085814e+01</td>\n",
       "      <td>4.033133e+01</td>\n",
       "      <td>-8.084679e+01</td>\n",
       "      <td>2.790000e-01</td>\n",
       "      <td>7.976000e+03</td>\n",
       "      <td>7.500000e+01</td>\n",
       "      <td>7.200000e+01</td>\n",
       "      <td>8.500000e+01</td>\n",
       "      <td>3.007000e+01</td>\n",
       "      <td>1.000000e+01</td>\n",
       "      <td>1.040000e+01</td>\n",
       "      <td>0.000000e+00</td>\n",
       "    </tr>\n",
       "    <tr>\n",
       "      <th>max</th>\n",
       "      <td>4.000000e+00</td>\n",
       "      <td>4.900220e+01</td>\n",
       "      <td>-6.711317e+01</td>\n",
       "      <td>4.907500e+01</td>\n",
       "      <td>-6.710924e+01</td>\n",
       "      <td>3.336300e+02</td>\n",
       "      <td>9.999997e+06</td>\n",
       "      <td>2.030000e+02</td>\n",
       "      <td>1.740000e+02</td>\n",
       "      <td>1.000000e+02</td>\n",
       "      <td>5.804000e+01</td>\n",
       "      <td>1.400000e+02</td>\n",
       "      <td>9.840000e+02</td>\n",
       "      <td>2.400000e+01</td>\n",
       "    </tr>\n",
       "  </tbody>\n",
       "</table>\n",
       "</div>"
      ],
      "text/plain": [
       "           Severity     Start_Lat     Start_Lng       End_Lat       End_Lng  \\\n",
       "count  2.906610e+06  2.906610e+06  2.906610e+06  2.623789e+06  2.623789e+06   \n",
       "mean   2.288649e+00  3.653027e+01 -9.642676e+01  3.651733e+01 -9.620367e+01   \n",
       "std    5.541618e-01  5.013964e+00  1.775412e+01  5.016609e+00  1.765971e+01   \n",
       "min    1.000000e+00  2.455527e+01 -1.246238e+02  2.455527e+01 -1.246238e+02   \n",
       "25%    2.000000e+00  3.366453e+01 -1.178232e+02  3.364659e+01 -1.177020e+02   \n",
       "50%    2.000000e+00  3.609977e+01 -9.116690e+01  3.605898e+01 -9.105163e+01   \n",
       "75%    3.000000e+00  4.037505e+01 -8.085814e+01  4.033133e+01 -8.084679e+01   \n",
       "max    4.000000e+00  4.900220e+01 -6.711317e+01  4.907500e+01 -6.710924e+01   \n",
       "\n",
       "       Distance(mi)        Number  Temperature(F)  Wind_Chill(F)  \\\n",
       "count  2.906610e+06  1.014938e+06    2.839386e+06   1.722751e+06   \n",
       "mean   3.980541e-01  6.789728e+03    6.098873e+01   5.499048e+01   \n",
       "std    1.592556e+00  1.697225e+04    1.845258e+01   2.219542e+01   \n",
       "min    0.000000e+00  0.000000e+00   -8.900000e+01  -8.900000e+01   \n",
       "25%    0.000000e+00  9.650000e+02    4.890000e+01   3.900000e+01   \n",
       "50%    0.000000e+00  3.093000e+03    6.300000e+01   5.800000e+01   \n",
       "75%    2.790000e-01  7.976000e+03    7.500000e+01   7.200000e+01   \n",
       "max    3.336300e+02  9.999997e+06    2.030000e+02   1.740000e+02   \n",
       "\n",
       "        Humidity(%)  Pressure(in)  Visibility(mi)  Wind_Speed(mph)  \\\n",
       "count  2.835340e+06  2.849702e+06    2.834532e+06     2.599447e+06   \n",
       "mean   6.537758e+01  2.965685e+01    9.116766e+00     7.818111e+00   \n",
       "std    2.287854e+01  9.094133e-01    2.837271e+00     5.431171e+00   \n",
       "min    1.000000e+00  0.000000e+00    0.000000e+00     0.000000e+00   \n",
       "25%    4.900000e+01  2.959000e+01    1.000000e+01     4.600000e+00   \n",
       "50%    6.800000e+01  2.992000e+01    1.000000e+01     7.000000e+00   \n",
       "75%    8.500000e+01  3.007000e+01    1.000000e+01     1.040000e+01   \n",
       "max    1.000000e+02  5.804000e+01    1.400000e+02     9.840000e+02   \n",
       "\n",
       "       Precipitation(in)  \n",
       "count       1.605284e+06  \n",
       "mean        1.119459e-02  \n",
       "std         1.540812e-01  \n",
       "min         0.000000e+00  \n",
       "25%         0.000000e+00  \n",
       "50%         0.000000e+00  \n",
       "75%         0.000000e+00  \n",
       "max         2.400000e+01  "
      ]
     },
     "execution_count": 11,
     "metadata": {},
     "output_type": "execute_result"
    }
   ],
   "source": [
    "#Calculating some statistical data of the numerical values in our DataFrame.\n",
    "df.describe()"
   ]
  },
  {
   "cell_type": "markdown",
   "id": "85c4880b",
   "metadata": {},
   "source": [
    "Here we can obtain and check a lot of data like the minimun temperature at the time of the accident, the location of the car (latitude and longitude), the average precipitation at the time of the accident and so on. Now let's see how many numeric columns we have."
   ]
  },
  {
   "cell_type": "code",
   "execution_count": 12,
   "id": "71514f65",
   "metadata": {},
   "outputs": [
    {
     "data": {
      "text/plain": [
       "14"
      ]
     },
     "execution_count": 12,
     "metadata": {},
     "output_type": "execute_result"
    }
   ],
   "source": [
    "#Setting the numeric datatypes we'll use to look for them.\n",
    "numerics = ['int16', 'int32', 'int64', 'float16', 'float32', 'float64']\n",
    "\n",
    "#Selecting only numeric datatypes and counting them.\n",
    "numeric_df = df.select_dtypes(include=numerics)\n",
    "len(numeric_df.columns)"
   ]
  },
  {
   "cell_type": "code",
   "execution_count": 13,
   "id": "45c43436",
   "metadata": {},
   "outputs": [
    {
     "data": {
      "text/plain": [
       "Number                   0.650817\n",
       "Precipitation(in)        0.447713\n",
       "Wind_Chill(F)            0.407299\n",
       "Wind_Speed(mph)          0.105677\n",
       "End_Lat                  0.097303\n",
       "End_Lng                  0.097303\n",
       "Visibility(mi)           0.024798\n",
       "Weather_Condition        0.024720\n",
       "Humidity(%)              0.024520\n",
       "Temperature(F)           0.023128\n",
       "Wind_Direction           0.021838\n",
       "Pressure(in)             0.019579\n",
       "Weather_Timestamp        0.016141\n",
       "Airport_Code             0.002273\n",
       "Timezone                 0.001180\n",
       "Zipcode                  0.000383\n",
       "Sunrise_Sunset           0.000038\n",
       "Civil_Twilight           0.000038\n",
       "Nautical_Twilight        0.000038\n",
       "Astronomical_Twilight    0.000038\n",
       "City                     0.000037\n",
       "Country                  0.000000\n",
       "Junction                 0.000000\n",
       "Start_Time               0.000000\n",
       "End_Time                 0.000000\n",
       "Start_Lat                0.000000\n",
       "Turning_Loop             0.000000\n",
       "Traffic_Signal           0.000000\n",
       "Traffic_Calming          0.000000\n",
       "Stop                     0.000000\n",
       "Station                  0.000000\n",
       "Roundabout               0.000000\n",
       "Railway                  0.000000\n",
       "No_Exit                  0.000000\n",
       "Give_Way                 0.000000\n",
       "State                    0.000000\n",
       "Crossing                 0.000000\n",
       "Bump                     0.000000\n",
       "Amenity                  0.000000\n",
       "Start_Lng                0.000000\n",
       "Distance(mi)             0.000000\n",
       "Description              0.000000\n",
       "Street                   0.000000\n",
       "Side                     0.000000\n",
       "Severity                 0.000000\n",
       "County                   0.000000\n",
       "ID                       0.000000\n",
       "dtype: float64"
      ]
     },
     "execution_count": 13,
     "metadata": {},
     "output_type": "execute_result"
    }
   ],
   "source": [
    "#Checking the percentages of missing values per column\n",
    "missing_percentages = df.isna().sum().sort_values(ascending=False) / len(df)\n",
    "missing_percentages"
   ]
  },
  {
   "cell_type": "code",
   "execution_count": 14,
   "id": "c1bdeada",
   "metadata": {
    "scrolled": true
   },
   "outputs": [
    {
     "data": {
      "text/plain": [
       "pandas.core.series.Series"
      ]
     },
     "execution_count": 14,
     "metadata": {},
     "output_type": "execute_result"
    }
   ],
   "source": [
    "type(missing_percentages)"
   ]
  },
  {
   "cell_type": "markdown",
   "id": "aac38d1c",
   "metadata": {},
   "source": [
    "We can see that our missing_percentages variable is a panda's Series, so we can plot it with pandas to check these missing values.\n"
   ]
  },
  {
   "cell_type": "code",
   "execution_count": 15,
   "id": "2626f119",
   "metadata": {},
   "outputs": [
    {
     "data": {
      "text/plain": [
       "<AxesSubplot:>"
      ]
     },
     "execution_count": 15,
     "metadata": {},
     "output_type": "execute_result"
    },
    {
     "data": {
      "image/png": "[encoded data removed]",
      "text/plain": [
       "<Figure size 432x288 with 1 Axes>"
      ]
     },
     "metadata": {
      "needs_background": "light"
     },
     "output_type": "display_data"
    }
   ],
   "source": [
    "#Plotting mising_percentages\n",
    "missing_percentages[missing_percentages != 0].plot(kind='barh')"
   ]
  },
  {
   "cell_type": "markdown",
   "id": "e1101fba",
   "metadata": {},
   "source": [
    "We can see that some columns have around a 50% or more missing values. This is not ideal since all that missing data may cause some issues. We can drop these columns in order to get more concise data, or we can work with the columns which do contain more data to work with. In this case I'll ignore them and will work with a few of the columns with more consistent data."
   ]
  },
  {
   "cell_type": "markdown",
   "id": "ff7561b7",
   "metadata": {},
   "source": [
    "## Exploratory Analysis and Visualization\n",
    "\n",
    "Some of the columns we will analyse are:\n",
    "\n",
    "- City\n",
    "- Start time\n",
    "- Start latitude and longitude"
   ]
  },
  {
   "cell_type": "code",
   "execution_count": 16,
   "id": "fe771379",
   "metadata": {},
   "outputs": [
    {
     "data": {
      "text/plain": [
       "Index(['ID', 'Severity', 'Start_Time', 'End_Time', 'Start_Lat', 'Start_Lng',\n",
       "       'End_Lat', 'End_Lng', 'Distance(mi)', 'Description', 'Number', 'Street',\n",
       "       'Side', 'City', 'County', 'State', 'Zipcode', 'Country', 'Timezone',\n",
       "       'Airport_Code', 'Weather_Timestamp', 'Temperature(F)', 'Wind_Chill(F)',\n",
       "       'Humidity(%)', 'Pressure(in)', 'Visibility(mi)', 'Wind_Direction',\n",
       "       'Wind_Speed(mph)', 'Precipitation(in)', 'Weather_Condition', 'Amenity',\n",
       "       'Bump', 'Crossing', 'Give_Way', 'Junction', 'No_Exit', 'Railway',\n",
       "       'Roundabout', 'Station', 'Stop', 'Traffic_Calming', 'Traffic_Signal',\n",
       "       'Turning_Loop', 'Sunrise_Sunset', 'Civil_Twilight', 'Nautical_Twilight',\n",
       "       'Astronomical_Twilight'],\n",
       "      dtype='object')"
      ]
     },
     "execution_count": 16,
     "metadata": {},
     "output_type": "execute_result"
    }
   ],
   "source": [
    "#Checking all the columns again.\n",
    "df.columns"
   ]
  },
  {
   "cell_type": "markdown",
   "id": "a67f0081",
   "metadata": {},
   "source": [
    "### City"
   ]
  },
  {
   "cell_type": "code",
   "execution_count": 17,
   "id": "00be82c9",
   "metadata": {},
   "outputs": [
    {
     "data": {
      "text/plain": [
       "0                Greenville\n",
       "1                 Charlotte\n",
       "2                 Los Gatos\n",
       "3               Carson City\n",
       "4           Fort Lauderdale\n",
       "                 ...       \n",
       "2906605             Houston\n",
       "2906606              Colton\n",
       "2906607               Miami\n",
       "2906608      Salt Lake City\n",
       "2906609    Colorado Springs\n",
       "Name: City, Length: 2906610, dtype: object"
      ]
     },
     "execution_count": 17,
     "metadata": {},
     "output_type": "execute_result"
    }
   ],
   "source": [
    "df.City"
   ]
  },
  {
   "cell_type": "code",
   "execution_count": 19,
   "id": "cbca0a43",
   "metadata": {},
   "outputs": [
    {
     "data": {
      "text/plain": [
       "11790"
      ]
     },
     "execution_count": 19,
     "metadata": {},
     "output_type": "execute_result"
    }
   ],
   "source": [
    "#Checking all the unique cities we have and counting them.\n",
    "unique_cities = df.City.unique()\n",
    "len(unique_cities)"
   ]
  },
  {
   "cell_type": "markdown",
   "id": "2901d625",
   "metadata": {},
   "source": [
    "We have accidents from 11790 different cities."
   ]
  },
  {
   "cell_type": "code",
   "execution_count": 20,
   "id": "1d3065ba",
   "metadata": {},
   "outputs": [
    {
     "data": {
      "text/plain": [
       "Los Angeles    68411\n",
       "Houston        68265\n",
       "Charlotte      56176\n",
       "Miami          49965\n",
       "Dallas         48525\n",
       "               ...  \n",
       "Wilmerding         1\n",
       "Gwynedd            1\n",
       "Willshire          1\n",
       "Clarks             1\n",
       "Anabel             1\n",
       "Name: City, Length: 11789, dtype: int64"
      ]
     },
     "execution_count": 20,
     "metadata": {},
     "output_type": "execute_result"
    }
   ],
   "source": [
    "#Ordering the cities by number of accidents.\n",
    "cities_by_accidents = df.City.value_counts()\n",
    "cities_by_accidents"
   ]
  },
  {
   "cell_type": "code",
   "execution_count": 116,
   "id": "54af961e",
   "metadata": {
    "scrolled": false
   },
   "outputs": [
    {
     "data": {
      "text/plain": [
       "Los Angeles      68411\n",
       "Houston          68265\n",
       "Charlotte        56176\n",
       "Miami            49965\n",
       "Dallas           48525\n",
       "Austin           38808\n",
       "Raleigh          31355\n",
       "Atlanta          29244\n",
       "Sacramento       28984\n",
       "Orlando          28092\n",
       "Nashville        25277\n",
       "Baton Rouge      25080\n",
       "Minneapolis      22469\n",
       "San Diego        22329\n",
       "Phoenix          21370\n",
       "Oklahoma City    21292\n",
       "Portland         19432\n",
       "Richmond         18343\n",
       "Seattle          17384\n",
       "Saint Paul       17266\n",
       "Name: City, dtype: int64"
      ]
     },
     "execution_count": 116,
     "metadata": {},
     "output_type": "execute_result"
    }
   ],
   "source": [
    "#Checking the top 20 cities by accidents.\n",
    "cities_by_accidents[:20]"
   ]
  },
  {
   "cell_type": "markdown",
   "id": "d6250614",
   "metadata": {},
   "source": [
    "After validating the information with a quick internet search, it makes sense that some of the largest cities in the USA are listed in our top 20 with most accidents."
   ]
  },
  {
   "cell_type": "code",
   "execution_count": 24,
   "id": "2a811165",
   "metadata": {
    "scrolled": false
   },
   "outputs": [
    {
     "data": {
      "text/plain": [
       "pandas.core.series.Series"
      ]
     },
     "execution_count": 24,
     "metadata": {},
     "output_type": "execute_result"
    }
   ],
   "source": [
    "type(cities_by_accidents)"
   ]
  },
  {
   "cell_type": "markdown",
   "id": "755a3a8d",
   "metadata": {},
   "source": [
    "We can see that our variable cities_by_accidents is a panda´s series, so we can plot it using pandas."
   ]
  },
  {
   "cell_type": "code",
   "execution_count": 25,
   "id": "57553be1",
   "metadata": {},
   "outputs": [
    {
     "data": {
      "text/plain": [
       "<AxesSubplot:>"
      ]
     },
     "execution_count": 25,
     "metadata": {},
     "output_type": "execute_result"
    },
    {
     "data": {
      "image/png": "[encoded data removed]",
      "text/plain": [
       "<Figure size 432x288 with 1 Axes>"
      ]
     },
     "metadata": {
      "needs_background": "light"
     },
     "output_type": "display_data"
    }
   ],
   "source": [
    "#Plotting the top 20 cities by accident.\n",
    "cities_by_accidents[:20].plot(kind='barh')"
   ]
  },
  {
   "cell_type": "code",
   "execution_count": 82,
   "id": "dd21f470",
   "metadata": {
    "scrolled": true
   },
   "outputs": [
    {
     "data": {
      "text/plain": [
       "Levering           1\n",
       "Bicknell           1\n",
       "Quinault           1\n",
       "Shaw               1\n",
       "West Santa Cruz    1\n",
       "                  ..\n",
       "Wilmerding         1\n",
       "Gwynedd            1\n",
       "Willshire          1\n",
       "Clarks             1\n",
       "Anabel             1\n",
       "Name: City, Length: 1306, dtype: int64"
      ]
     },
     "execution_count": 82,
     "metadata": {},
     "output_type": "execute_result"
    }
   ],
   "source": [
    "#Checking cities with only 1 registered accident.\n",
    "one_accident_cities = cities_by_accidents[cities_by_accidents == 1]\n",
    "one_accident_cities"
   ]
  },
  {
   "cell_type": "code",
   "execution_count": 89,
   "id": "0acc8b5e",
   "metadata": {},
   "outputs": [
    {
     "data": {
      "text/plain": [
       "0.11077184054283291"
      ]
     },
     "execution_count": 89,
     "metadata": {},
     "output_type": "execute_result"
    }
   ],
   "source": [
    "#Checking the percentage\n",
    "len(one_accident_cities) / len(unique_cities)"
   ]
  },
  {
   "cell_type": "markdown",
   "id": "8010f611",
   "metadata": {},
   "source": [
    "There are 1306 cities with only 1 accident and they represent the 11% of total cities."
   ]
  },
  {
   "cell_type": "code",
   "execution_count": 90,
   "id": "5e1d15c8",
   "metadata": {},
   "outputs": [
    {
     "data": {
      "text/plain": [
       "Los Angeles      68411\n",
       "Houston          68265\n",
       "Charlotte        56176\n",
       "Miami            49965\n",
       "Dallas           48525\n",
       "                 ...  \n",
       "San Bruno         1009\n",
       "Willow Grove      1005\n",
       "Palmetto          1004\n",
       "Dover             1003\n",
       "Monterey Park     1003\n",
       "Name: City, Length: 513, dtype: int64"
      ]
     },
     "execution_count": 90,
     "metadata": {},
     "output_type": "execute_result"
    }
   ],
   "source": [
    "#Checking cities with more than 1000 registered accidents.\n",
    "high_accident_cities = cities_by_accidents[cities_by_accidents >= 1000]\n",
    "high_accident_cities"
   ]
  },
  {
   "cell_type": "code",
   "execution_count": 87,
   "id": "2259d5ee",
   "metadata": {},
   "outputs": [
    {
     "data": {
      "text/plain": [
       "0.04351145038167939"
      ]
     },
     "execution_count": 87,
     "metadata": {},
     "output_type": "execute_result"
    }
   ],
   "source": [
    "#Checking the percentage\n",
    "len(high_accident_cities) / len(unique_cities)"
   ]
  },
  {
   "cell_type": "markdown",
   "id": "1b0e28c2",
   "metadata": {},
   "source": [
    "There are 513 cities with more than 1000 accidents and they represent the 4% of total cities."
   ]
  },
  {
   "cell_type": "code",
   "execution_count": 117,
   "id": "30d3bedc",
   "metadata": {
    "scrolled": false
   },
   "outputs": [
    {
     "data": {
      "text/plain": [
       "<seaborn.axisgrid.FacetGrid at 0x22631badfa0>"
      ]
     },
     "execution_count": 117,
     "metadata": {},
     "output_type": "execute_result"
    },
    {
     "data": {
      "image/png": "[encoded data removed]",
      "text/plain": [
       "<Figure size 360x360 with 1 Axes>"
      ]
     },
     "metadata": {},
     "output_type": "display_data"
    }
   ],
   "source": [
    "#Plotting the cities with more than 1000 accidents.\n",
    "sns.displot(high_accident_cities)"
   ]
  },
  {
   "cell_type": "markdown",
   "id": "192c4654",
   "metadata": {},
   "source": [
    "It seems that the number of cities decreases exponentially when the number of accidents increases."
   ]
  },
  {
   "cell_type": "code",
   "execution_count": 91,
   "id": "89fb1e42",
   "metadata": {},
   "outputs": [
    {
     "data": {
      "text/plain": [
       "The Dalles    996\n",
       "Edmond        996\n",
       "Selma         994\n",
       "Royal Oak     992\n",
       "Lakeland      991\n",
       "             ... \n",
       "Wilmerding      1\n",
       "Gwynedd         1\n",
       "Willshire       1\n",
       "Clarks          1\n",
       "Anabel          1\n",
       "Name: City, Length: 11276, dtype: int64"
      ]
     },
     "execution_count": 91,
     "metadata": {},
     "output_type": "execute_result"
    }
   ],
   "source": [
    "#Checking low accident cities with less than 1000 registered accidents.\n",
    "low_accident_cities = cities_by_accidents[cities_by_accidents < 1000]\n",
    "low_accident_cities"
   ]
  },
  {
   "cell_type": "code",
   "execution_count": 88,
   "id": "45cb88cf",
   "metadata": {},
   "outputs": [
    {
     "data": {
      "text/plain": [
       "0.9564037319762511"
      ]
     },
     "execution_count": 88,
     "metadata": {},
     "output_type": "execute_result"
    }
   ],
   "source": [
    "#Checking the percentage.\n",
    "len(low_accident_cities) / len(unique_cities)"
   ]
  },
  {
   "cell_type": "markdown",
   "id": "0d33345f",
   "metadata": {},
   "source": [
    "There are 11276 cities with less than 1000 accidents. They represent the 96% of total cities, so we can see that most of the cities have a low register of accidents and only a few have more than 1000 accidents."
   ]
  },
  {
   "cell_type": "code",
   "execution_count": 98,
   "id": "4f45bbe9",
   "metadata": {
    "scrolled": false
   },
   "outputs": [
    {
     "data": {
      "text/plain": [
       "<seaborn.axisgrid.FacetGrid at 0x2262e3f9430>"
      ]
     },
     "execution_count": 98,
     "metadata": {},
     "output_type": "execute_result"
    },
    {
     "data": {
      "image/png": "[encoded data removed]",
      "text/plain": [
       "<Figure size 360x360 with 1 Axes>"
      ]
     },
     "metadata": {},
     "output_type": "display_data"
    }
   ],
   "source": [
    "#Plotting the low accident cities to see their distribution.\n",
    "sns.displot(low_accident_cities)"
   ]
  },
  {
   "cell_type": "markdown",
   "id": "cfb674a8",
   "metadata": {},
   "source": [
    "Just like in the past graph, it seems that the number of cities decreases exponentially when the number of accidents increases. Since we have identified this pattern, let's go ahead and plot the cities using an exponential distribution graph to see how these numbers vary."
   ]
  },
  {
   "cell_type": "code",
   "execution_count": 99,
   "id": "4005b57a",
   "metadata": {
    "scrolled": true
   },
   "outputs": [
    {
     "data": {
      "text/plain": [
       "<AxesSubplot:xlabel='City', ylabel='Count'>"
      ]
     },
     "execution_count": 99,
     "metadata": {},
     "output_type": "execute_result"
    },
    {
     "data": {
      "image/png": "[encoded data removed]",
      "text/plain": [
       "<Figure size 432x288 with 1 Axes>"
      ]
     },
     "metadata": {},
     "output_type": "display_data"
    }
   ],
   "source": [
    "#Plotting in an exponential scale.\n",
    "sns.histplot(cities_by_accidents, log_scale=True)"
   ]
  },
  {
   "cell_type": "markdown",
   "id": "fd8f3c08",
   "metadata": {},
   "source": [
    "We discovered that indeed there is a relationship between the number of accidents by city and the number of cities. With this graph we confirm that the number of cities decreases exponentially when the count of accidents increases."
   ]
  },
  {
   "cell_type": "markdown",
   "id": "26b15932",
   "metadata": {},
   "source": [
    "### Start Time"
   ]
  },
  {
   "cell_type": "code",
   "execution_count": 100,
   "id": "91f3200f",
   "metadata": {
    "scrolled": true
   },
   "outputs": [
    {
     "data": {
      "text/plain": [
       "0          2019-05-21 08:29:55\n",
       "1          2019-10-07 17:43:09\n",
       "2          2020-12-13 21:53:00\n",
       "3          2018-04-17 16:51:23\n",
       "4          2016-08-31 17:40:49\n",
       "                  ...         \n",
       "2906605    2018-06-28 08:49:01\n",
       "2906606    2019-01-10 02:01:01\n",
       "2906607    2020-11-23 12:52:00\n",
       "2906608    2019-12-29 22:38:00\n",
       "2906609    2018-03-26 13:35:03\n",
       "Name: Start_Time, Length: 2906610, dtype: object"
      ]
     },
     "execution_count": 100,
     "metadata": {},
     "output_type": "execute_result"
    }
   ],
   "source": [
    "#Checking the Start_Time column.\n",
    "df.Start_Time"
   ]
  },
  {
   "cell_type": "markdown",
   "id": "a44f2775",
   "metadata": {},
   "source": [
    "We can see the data type of the time is and object, even though the format is written as a date with time. Let's convert it into a datetime object to work with it."
   ]
  },
  {
   "cell_type": "code",
   "execution_count": 101,
   "id": "85044982",
   "metadata": {},
   "outputs": [],
   "source": [
    "#Converting the data type to a datetime python object.\n",
    "df.Start_Time = pd.to_datetime(df.Start_Time)"
   ]
  },
  {
   "cell_type": "code",
   "execution_count": 104,
   "id": "6a5b8dfc",
   "metadata": {},
   "outputs": [
    {
     "name": "stderr",
     "output_type": "stream",
     "text": [
      "C:\\Users\\lucin\\anaconda3\\lib\\site-packages\\seaborn\\distributions.py:2557: FutureWarning: `distplot` is a deprecated function and will be removed in a future version. Please adapt your code to use either `displot` (a figure-level function with similar flexibility) or `histplot` (an axes-level function for histograms).\n",
      "  warnings.warn(msg, FutureWarning)\n"
     ]
    },
    {
     "data": {
      "text/plain": [
       "<AxesSubplot:xlabel='Start_Time'>"
      ]
     },
     "execution_count": 104,
     "metadata": {},
     "output_type": "execute_result"
    },
    {
     "data": {
      "image/png": "[encoded data removed]",
      "text/plain": [
       "<Figure size 432x288 with 1 Axes>"
      ]
     },
     "metadata": {},
     "output_type": "display_data"
    }
   ],
   "source": [
    "#Plotting by hours of the day and getting the percentages.\n",
    "sns.distplot(df.Start_Time.dt.hour, bins=24, kde=False, norm_hist=True)"
   ]
  },
  {
   "cell_type": "markdown",
   "id": "ee3d9651",
   "metadata": {},
   "source": [
    "We can see that there seems to be a bimodal distribution, with two peaks from 6am to 9am and from 3pm to 6pm. We can deduce this it the time people commutes to work. Let's see if this is the same for every day of the week."
   ]
  },
  {
   "cell_type": "code",
   "execution_count": 105,
   "id": "355f40f6",
   "metadata": {},
   "outputs": [
    {
     "data": {
      "text/plain": [
       "<AxesSubplot:xlabel='Start_Time'>"
      ]
     },
     "execution_count": 105,
     "metadata": {},
     "output_type": "execute_result"
    },
    {
     "data": {
      "image/png": "[encoded data removed]",
      "text/plain": [
       "<Figure size 432x288 with 1 Axes>"
      ]
     },
     "metadata": {},
     "output_type": "display_data"
    }
   ],
   "source": [
    "#Plotting by day of the week.\n",
    "sns.distplot(df.Start_Time.dt.dayofweek, bins=7, kde=False, norm_hist=True)"
   ]
  },
  {
   "cell_type": "markdown",
   "id": "5dd9c923",
   "metadata": {},
   "source": [
    "We can see that there are more accidents on weekdays. This might be because way less people drive to work on weekends so the number of accidents decrease by more than a half.\n",
    "\n",
    "Let's check if the bimodal distribution applies the same for weekends and weekdays."
   ]
  },
  {
   "cell_type": "code",
   "execution_count": 111,
   "id": "2c6baa7e",
   "metadata": {},
   "outputs": [
    {
     "name": "stderr",
     "output_type": "stream",
     "text": [
      "C:\\Users\\lucin\\anaconda3\\lib\\site-packages\\seaborn\\distributions.py:2557: FutureWarning: `distplot` is a deprecated function and will be removed in a future version. Please adapt your code to use either `displot` (a figure-level function with similar flexibility) or `histplot` (an axes-level function for histograms).\n",
      "  warnings.warn(msg, FutureWarning)\n"
     ]
    },
    {
     "data": {
      "text/plain": [
       "<AxesSubplot:xlabel='Start_Time'>"
      ]
     },
     "execution_count": 111,
     "metadata": {},
     "output_type": "execute_result"
    },
    {
     "data": {
      "image/png": "[encoded data removed]",
      "text/plain": [
       "<Figure size 432x288 with 1 Axes>"
      ]
     },
     "metadata": {},
     "output_type": "display_data"
    }
   ],
   "source": [
    "#Getting the graph for Sundays\n",
    "sunday_graph = df.Start_Time[df.Start_Time.dt.dayofweek == 6]\n",
    "sns.distplot(sunday_graph.dt.hour, bins=24, kde=False, norm_hist=True)"
   ]
  },
  {
   "cell_type": "markdown",
   "id": "2fc28a10",
   "metadata": {},
   "source": [
    "The bimodal distribution is different for Sunday, which is a weekend day. We can see there is more of a normal distribution with the peak of accidents at around 2pm."
   ]
  },
  {
   "cell_type": "code",
   "execution_count": 112,
   "id": "192bc08e",
   "metadata": {},
   "outputs": [
    {
     "name": "stderr",
     "output_type": "stream",
     "text": [
      "C:\\Users\\lucin\\anaconda3\\lib\\site-packages\\seaborn\\distributions.py:2557: FutureWarning: `distplot` is a deprecated function and will be removed in a future version. Please adapt your code to use either `displot` (a figure-level function with similar flexibility) or `histplot` (an axes-level function for histograms).\n",
      "  warnings.warn(msg, FutureWarning)\n"
     ]
    },
    {
     "data": {
      "text/plain": [
       "<AxesSubplot:xlabel='Start_Time'>"
      ]
     },
     "execution_count": 112,
     "metadata": {},
     "output_type": "execute_result"
    },
    {
     "data": {
      "image/png": "[encoded data removed]",
      "text/plain": [
       "<Figure size 432x288 with 1 Axes>"
      ]
     },
     "metadata": {},
     "output_type": "display_data"
    }
   ],
   "source": [
    "#Getting the graph for Mondays\n",
    "monday_graph = df.Start_Time[df.Start_Time.dt.dayofweek == 0]\n",
    "sns.distplot(monday_graph.dt.hour, bins=24, kde=False, norm_hist=True)"
   ]
  },
  {
   "cell_type": "markdown",
   "id": "e5910733",
   "metadata": {},
   "source": [
    "On monday, which is a weekday, the general bimodal distribution can be seen in our graph."
   ]
  },
  {
   "cell_type": "markdown",
   "id": "4dd9160c",
   "metadata": {},
   "source": [
    "### Start Latitude & Longitude"
   ]
  },
  {
   "cell_type": "code",
   "execution_count": 118,
   "id": "0981a9f5",
   "metadata": {},
   "outputs": [
    {
     "data": {
      "text/plain": [
       "0          34.808868\n",
       "1          35.090080\n",
       "2          37.145730\n",
       "3          39.110390\n",
       "4          26.102942\n",
       "             ...    \n",
       "2906605    29.813824\n",
       "2906606    34.068890\n",
       "2906607    25.702200\n",
       "2906608    40.660140\n",
       "2906609    38.831749\n",
       "Name: Start_Lat, Length: 2906610, dtype: float64"
      ]
     },
     "execution_count": 118,
     "metadata": {},
     "output_type": "execute_result"
    }
   ],
   "source": [
    "#Getting the latitude of the accidents.\n",
    "df.Start_Lat"
   ]
  },
  {
   "cell_type": "code",
   "execution_count": 119,
   "id": "c4a12338",
   "metadata": {},
   "outputs": [
    {
     "data": {
      "text/plain": [
       "0          -82.269157\n",
       "1          -80.745560\n",
       "2         -121.985052\n",
       "3         -119.773781\n",
       "4          -80.265091\n",
       "              ...    \n",
       "2906605    -95.399437\n",
       "2906606   -117.342010\n",
       "2906607    -80.335556\n",
       "2906608   -111.952460\n",
       "2906609   -104.748161\n",
       "Name: Start_Lng, Length: 2906610, dtype: float64"
      ]
     },
     "execution_count": 119,
     "metadata": {},
     "output_type": "execute_result"
    }
   ],
   "source": [
    "#Getting the longitude of the accidents.\n",
    "df.Start_Lng"
   ]
  },
  {
   "cell_type": "code",
   "execution_count": 123,
   "id": "2a68b229",
   "metadata": {},
   "outputs": [],
   "source": [
    "#Making a sample of 1% so that the plotting doesn't take too much memory.\n",
    "sample_df = df.sample(int(0.01 * len(df)))"
   ]
  },
  {
   "cell_type": "code",
   "execution_count": 124,
   "id": "f25896dd",
   "metadata": {},
   "outputs": [
    {
     "data": {
      "text/plain": [
       "<AxesSubplot:xlabel='Start_Lng', ylabel='Start_Lat'>"
      ]
     },
     "execution_count": 124,
     "metadata": {},
     "output_type": "execute_result"
    },
    {
     "data": {
      "image/png": "[encoded data removed]",
      "text/plain": [
       "<Figure size 432x288 with 1 Axes>"
      ]
     },
     "metadata": {},
     "output_type": "display_data"
    }
   ],
   "source": [
    "#Plotting using longitude on the x axis and latitude on the y axis.\n",
    "sns.scatterplot(x=sample_df.Start_Lng, y=sample_df.Start_Lat, size=0.001)"
   ]
  },
  {
   "cell_type": "markdown",
   "id": "7d528cd4",
   "metadata": {},
   "source": [
    "We can see that we almost got the shape of the US, which makes sense since we are using US coordinates. According to this, most of the accidents are on the coast side."
   ]
  },
  {
   "cell_type": "markdown",
   "id": "e41f4dc3",
   "metadata": {},
   "source": [
    "## Conclusions"
   ]
  },
  {
   "cell_type": "markdown",
   "id": "f7ab03bb",
   "metadata": {},
   "source": [
    "According to the analysis performed, we can get the following conclusions:\n",
    "1. We cannot effectively count on variables such as wind speed, wind chill and precipitation since there is a huge amount of missing values for these columns, so it would be better to consider other variables.\n",
    "2. There are 11790 different cities in the dataset, with values as low as 1 accident per city and as large as 68411 accidents per city.\n",
    "3. The number of cities decreases exponentially when the count of accidents increases.\n",
    "4. Only 4% of cities have more than 1000 or more accidents registered whereas 96% of cities have less than 1000 accidents.\n",
    "5. On weekdays, most of the accidents happen from 6am to 9am and from 3pm to 6pm. We can deduce this is because at this time people is commuting.\n",
    "6. On weekends, most of the accidents happen between 11am and 4 pm.\n",
    "7. There are over as twice as much accidents during weekdays than during weekends.\n",
    "8. Most of the accidents seem to be concentrated on the coast.\n",
    "\n",
    "Just as we see, performing exploratory data analysis can be very useful when trying to identify patterns, draw conclusions and solve some questions. In this brief analysis we have discovered some trends and gotten important insights from our data. This analysis can performed further in order to solve more questions that could arise and to solve other problems."
   ]
  },
  {
   "cell_type": "markdown",
   "id": "43691757",
   "metadata": {},
   "source": [
    "## Bibliography\n",
    "- Moosavi, Sobhan, Mohammad Hossein Samavatian, Srinivasan Parthasarathy, and Rajiv Ramnath. “A Countrywide Traffic Accident Dataset.”, 2019.\n",
    "- Moosavi, Sobhan, Mohammad Hossein Samavatian, Srinivasan Parthasarathy, Radu Teodorescu, and Rajiv Ramnath. \"Accident Risk Prediction based on Heterogeneous Sparse Data: New Dataset and Insights.\" In proceedings of the 27th ACM SIGSPATIAL International Conference on Advances in Geographic Information Systems, ACM, 2019."
   ]
  }
 ],
 "metadata": {
  "kernelspec": {
   "display_name": "Python 3",
   "language": "python",
   "name": "python3"
  },
  "language_info": {
   "codemirror_mode": {
    "name": "ipython",
    "version": 3
   },
   "file_extension": ".py",
   "mimetype": "text/x-python",
   "name": "python",
   "nbconvert_exporter": "python",
   "pygments_lexer": "ipython3",
   "version": "3.8.8"
  }
 },
 "nbformat": 4,
 "nbformat_minor": 5
}
